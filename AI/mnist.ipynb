{
 "cells": [
  {
   "cell_type": "code",
   "execution_count": 2,
   "id": "5d50a41f-b8f5-434d-a4fe-82bf49fde3ce",
   "metadata": {},
   "outputs": [],
   "source": [
    "import h5py"
   ]
  },
  {
   "cell_type": "code",
   "execution_count": 266,
   "id": "dfbb2810-f705-48ab-b02b-efe611ec7366",
   "metadata": {},
   "outputs": [],
   "source": [
    "import matplotlib.pyplot as plt\n",
    "import tensorflow as tf\n",
    "from tensorflow import keras\n",
    "from tensorflow.keras.layers import Flatten\n",
    "from tensorflow.keras.layers import Dense\n",
    "from tensorflow.keras.losses import SparseCategoricalCrossentropy\n",
    "from sklearn.metrics import accuracy_score\n",
    "from sys import getsizeof\n",
    "import numpy as np\n",
    "import os"
   ]
  },
  {
   "cell_type": "code",
   "execution_count": 19,
   "id": "621ad861-4a58-4926-978c-de3e7d5ac87b",
   "metadata": {},
   "outputs": [
    {
     "name": "stdout",
     "output_type": "stream",
     "text": [
      "2.18.0\n"
     ]
    }
   ],
   "source": [
    "print(tf.__version__)"
   ]
  },
  {
   "cell_type": "code",
   "execution_count": 200,
   "id": "805a22b7-d960-4c0a-b64d-5d6e088b6b88",
   "metadata": {},
   "outputs": [],
   "source": [
    "def GetSize(aPath, unit=\"KB\"):\n",
    "    lNrOfBytes = os.path.getsize(aPath)\n",
    "    if(unit == \"KB\"):\n",
    "       return round(lNrOfBytes / 1024, 4);\n",
    "    elif(unit == \"MB\"):\n",
    "        return round(lNrOfBytes / (1024 * 1024), 4)\n",
    "    else:\n",
    "        print(\"Unknown measurement unit\")\n",
    "        return 0"
   ]
  },
  {
   "cell_type": "code",
   "execution_count": 185,
   "id": "5bcf37dc-d493-413f-933f-7e04dd2ac1e3",
   "metadata": {},
   "outputs": [],
   "source": [
    "def print_in_out_info(aInterpreter):\n",
    "    print(\"Input details:\")\n",
    "    print(aInterpreter.get_input_details())\n",
    "    print(\"Output details:\")\n",
    "    print(aInterpreter.get_output_details())"
   ]
  },
  {
   "cell_type": "code",
   "execution_count": null,
   "id": "0cbffcc2-cf16-458b-a1fe-86db978aed65",
   "metadata": {},
   "outputs": [],
   "source": [
    "class Runner(object):\n",
    "    def __init__(self, aKerasModel):\n",
    "        self.mKerasModel = aKerasModel\n",
    "        self.mTfLiteModel = None\n",
    "        self.TF_MODEL_PATH = \"./mnist_tf_model.tflite\"\n",
    "        self.TF_MODEL_FP16_PATH = \"./mnist_tf_fp16_model.tflite\"\n",
    "        self.TF_MODEL_INT8_PATH = \"./mnist_tf_int8_model.tflite\"\n",
    "\n",
    "    @staticmethod\n",
    "    def GetSize(aPath, unit=\"KB\"):\n",
    "        lNrOfBytes = os.path.getsize(aPath)\n",
    "        if(unit == \"KB\"):\n",
    "           return round(lNrOfBytes / 1024, 4);\n",
    "        elif(unit == \"MB\"):\n",
    "            return round(lNrOfBytes / (1024 * 1024), 4)\n",
    "        else:\n",
    "            print(\"Unknown measurement unit\")\n",
    "            return 0\n",
    "    \n",
    "    def Run(self, aTestImages, aTestLabels):\n",
    "        _, lAcc = self.mKerasModel.evaluate(aTestImages, aTestLabels, verbose=2)\n",
    "        print(\"Accuracy of keras model: {}%\".format(round(lAcc*100,2)))\n",
    "        \n",
    "    def RunTfLite(self, aTestImages, aTestLabels, dt=\"FP32\"):\n",
    "        lTfLiteConverter = tf.lite.TFLiteConverter.from_keras_model(self.mKerasModel)\n",
    "        lTfLiteModelPath = self.TF_MODEL_PATH;\n",
    "        if(dt == \"FP16\"):\n",
    "            lTfLiteConverter.optimizations = [tf.lite.Optimize.DEFAULT]\n",
    "            lTfLiteConverter.target_spec.supported_types = [tf.float16]\n",
    "            lTfLiteModelPath = self.TF_MODEL_FP16_PATH;\n",
    "        elif(dt == \"INT8\"):\n",
    "            lTfLiteConverter.optimizations = [tf.lite.Optimize.OPTIMIZE_FOR_SIZE]\n",
    "            lTfLiteModelPath = self.TF_MODEL_INT8_PATH;\n",
    "        else:\n",
    "            print(\"Unknown data type provided\")\n",
    "       \n",
    "        self.mTfLiteModel = lTfLiteConverter.convert()\n",
    "        if(self.mTfLiteModel is not None):\n",
    "            lFd = open(lTfLiteModelPath, mode=\"wb\")\n",
    "            lNrOfBytesWritten = lFd.write(self.mTfLiteModel)\n",
    "            assert(lNrOfBytesWritten == len(self.mTfLiteModel))\n",
    "        \n",
    "        lTfLiteInterpreter = tf.lite.Interpreter(model_path=lTfLiteModelPath)\n",
    "        lTfLiteInterpreter.resize_tensor_input(input_index=in_details[0][\"index\"], tensor_size=(10000,28,28))\n",
    "        lTfLiteInterpreter.resize_tensor_input(input_index=out_details[0][\"index\"], tensor_size=(10000,10))\n",
    "        lTfLiteInterpreter.allocate_tensors()\n",
    "\n",
    "        lTestImagesFp32 = np.float32(aTestImages)\n",
    "        lInDetails = lTfLiteInterpreter.get_input_details()\n",
    "        lOutDetails = lTfLiteInterpreter.get_output_details()\n",
    "        lTfLiteInterpreter.set_tensor(lInDetails[0][\"index\"], lTestImagesFp32)\n",
    "        lTfLiteInterpreter.invoke()\n",
    "        lYValues = lTfLiteInterpreter.tensor(lOutDetails[0][\"index\"])()\n",
    "        lPred = np.argmax(lYValues, axis=1)\n",
    "        lAccScore = accuracy_score(aTestLabels, lPred)\n",
    "\n",
    "        print(\"Accuracy score for tflite model with size {} is {}%\".format(round(GetSize(lTfLiteModelPath),2), round(100*lAccScore,2)))\n",
    "\n",
    "    def RunModel(self, aTestImages, aTestLabels, dt=\"FP64\"):\n",
    "        if(dt == \"FP64\"):\n",
    "            _, lAcc = self.mKerasModel.evaluate(aTestImages, aTestLabels, verbose=2)\n",
    "            print(\"Accuracy of keras model: {}%\".format(round(lAcc*100,2)))\n",
    "        elif(dt == \"FP32\"):\n",
    "            RunTfLite(aTestImages, aTestLabels)\n",
    "        elif(dt == \"FP16\"):\n",
    "            RunTfLite(aTestImages, aTestLabels, \"FP16\")\n",
    "        elif(dt == \"INT8\"):\n",
    "            RunTfLite(aTestImages, aTestLabels, \"INT8\")\n",
    "        else:\n",
    "            print(\"Unknown data type provided!\")\n",
    "\n",
    "        "
   ]
  },
  {
   "cell_type": "code",
   "execution_count": 233,
   "id": "4a4b9d4d-163d-4c23-801a-35d7cb81fff8",
   "metadata": {},
   "outputs": [],
   "source": [
    "dataset = keras.datasets.fashion_mnist"
   ]
  },
  {
   "cell_type": "code",
   "execution_count": 208,
   "id": "f1ef1f5b-9092-4055-943b-565a45a2cfd2",
   "metadata": {},
   "outputs": [],
   "source": [
    "(x_train,y_train),  (x_test, y_test) = dataset.load_data();"
   ]
  },
  {
   "cell_type": "code",
   "execution_count": 209,
   "id": "847f9bf8-9705-49fd-871c-ed30d821bfcf",
   "metadata": {},
   "outputs": [
    {
     "name": "stdout",
     "output_type": "stream",
     "text": [
      "(60000, 28, 28) uint8\n"
     ]
    }
   ],
   "source": [
    "print(x_train.shape, x_train.dtype)"
   ]
  },
  {
   "cell_type": "code",
   "execution_count": 210,
   "id": "3c2d3a2f-66ef-4e09-978e-7b9d80106742",
   "metadata": {},
   "outputs": [
    {
     "name": "stdout",
     "output_type": "stream",
     "text": [
      "(60000,) uint8\n"
     ]
    }
   ],
   "source": [
    "print(y_train.shape, y_train.dtype)"
   ]
  },
  {
   "cell_type": "code",
   "execution_count": 211,
   "id": "fc9ff8b0-9efc-446c-909d-0c5070ce5d44",
   "metadata": {},
   "outputs": [
    {
     "data": {
      "text/plain": [
       "60000"
      ]
     },
     "execution_count": 211,
     "metadata": {},
     "output_type": "execute_result"
    }
   ],
   "source": [
    "len(x_train)"
   ]
  },
  {
   "cell_type": "code",
   "execution_count": 212,
   "id": "c58e4fca-7723-4488-8eff-74aa504f866e",
   "metadata": {},
   "outputs": [],
   "source": [
    "unique_y_train = np.unique(y_train)"
   ]
  },
  {
   "cell_type": "code",
   "execution_count": 213,
   "id": "0d2b6233-8c36-4574-b7e1-cb70f076fd8e",
   "metadata": {},
   "outputs": [
    {
     "name": "stdout",
     "output_type": "stream",
     "text": [
      "[0 1 2 3 4 5 6 7 8 9]\n"
     ]
    }
   ],
   "source": [
    "print(unique_y_train)"
   ]
  },
  {
   "cell_type": "code",
   "execution_count": 214,
   "id": "fc67b1fe-65bf-4cb9-b396-4d8e5f5d71e3",
   "metadata": {},
   "outputs": [
    {
     "data": {
      "image/png": "[encoded data removed]",
      "text/plain": [
       "<Figure size 640x480 with 2 Axes>"
      ]
     },
     "metadata": {},
     "output_type": "display_data"
    }
   ],
   "source": [
    "plt.figure()\n",
    "plt.imshow(x_train[12], cmap=\"gray\")\n",
    "plt.colorbar()\n",
    "plt.grid(False)\n",
    "plt.show()"
   ]
  },
  {
   "cell_type": "code",
   "execution_count": 215,
   "id": "7b4cd67c-bce8-4f74-8f9d-6a881738ea51",
   "metadata": {},
   "outputs": [],
   "source": [
    "x_train = x_train / 256\n",
    "x_test = x_test / 256"
   ]
  },
  {
   "cell_type": "code",
   "execution_count": 279,
   "id": "585ef600-2069-47ab-af08-4dd5da12a927",
   "metadata": {},
   "outputs": [],
   "source": [
    "model = keras.Sequential([keras.layers.Input(shape=(28,28)), \n",
    "                          keras.layers.Flatten(),\n",
    "                          keras.layers.Dense(128, activation=\"relu\"),\n",
    "                          keras.layers.Dropout(rate=0.20),\n",
    "                          keras.layers.Dense(128, activation=\"relu\"),\n",
    "                          keras.layers.Dense(10)])"
   ]
  },
  {
   "cell_type": "code",
   "execution_count": 280,
   "id": "46a9fefd-5764-4bda-99b9-c5d3edc7cb5d",
   "metadata": {},
   "outputs": [
    {
     "data": {
      "text/html": [
       "<pre style=\"white-space:pre;overflow-x:auto;line-height:normal;font-family:Menlo,'DejaVu Sans Mono',consolas,'Courier New',monospace\"><span style=\"font-weight: bold\">Model: \"sequential_9\"</span>\n",
       "</pre>\n"
      ],
      "text/plain": [
       "\u001b[1mModel: \"sequential_9\"\u001b[0m\n"
      ]
     },
     "metadata": {},
     "output_type": "display_data"
    },
    {
     "data": {
      "text/html": [
       "<pre style=\"white-space:pre;overflow-x:auto;line-height:normal;font-family:Menlo,'DejaVu Sans Mono',consolas,'Courier New',monospace\">┏━━━━━━━━━━━━━━━━━━━━━━━━━━━━━━━━━┳━━━━━━━━━━━━━━━━━━━━━━━━┳━━━━━━━━━━━━━━━┓\n",
       "┃<span style=\"font-weight: bold\"> Layer (type)                    </span>┃<span style=\"font-weight: bold\"> Output Shape           </span>┃<span style=\"font-weight: bold\">       Param # </span>┃\n",
       "┡━━━━━━━━━━━━━━━━━━━━━━━━━━━━━━━━━╇━━━━━━━━━━━━━━━━━━━━━━━━╇━━━━━━━━━━━━━━━┩\n",
       "│ flatten_7 (<span style=\"color: #0087ff; text-decoration-color: #0087ff\">Flatten</span>)             │ (<span style=\"color: #00d7ff; text-decoration-color: #00d7ff\">None</span>, <span style=\"color: #00af00; text-decoration-color: #00af00\">784</span>)            │             <span style=\"color: #00af00; text-decoration-color: #00af00\">0</span> │\n",
       "├─────────────────────────────────┼────────────────────────┼───────────────┤\n",
       "│ dense_22 (<span style=\"color: #0087ff; text-decoration-color: #0087ff\">Dense</span>)                │ (<span style=\"color: #00d7ff; text-decoration-color: #00d7ff\">None</span>, <span style=\"color: #00af00; text-decoration-color: #00af00\">128</span>)            │       <span style=\"color: #00af00; text-decoration-color: #00af00\">100,480</span> │\n",
       "├─────────────────────────────────┼────────────────────────┼───────────────┤\n",
       "│ dropout_1 (<span style=\"color: #0087ff; text-decoration-color: #0087ff\">Dropout</span>)             │ (<span style=\"color: #00d7ff; text-decoration-color: #00d7ff\">None</span>, <span style=\"color: #00af00; text-decoration-color: #00af00\">128</span>)            │             <span style=\"color: #00af00; text-decoration-color: #00af00\">0</span> │\n",
       "├─────────────────────────────────┼────────────────────────┼───────────────┤\n",
       "│ dense_23 (<span style=\"color: #0087ff; text-decoration-color: #0087ff\">Dense</span>)                │ (<span style=\"color: #00d7ff; text-decoration-color: #00d7ff\">None</span>, <span style=\"color: #00af00; text-decoration-color: #00af00\">128</span>)            │        <span style=\"color: #00af00; text-decoration-color: #00af00\">16,512</span> │\n",
       "├─────────────────────────────────┼────────────────────────┼───────────────┤\n",
       "│ dense_24 (<span style=\"color: #0087ff; text-decoration-color: #0087ff\">Dense</span>)                │ (<span style=\"color: #00d7ff; text-decoration-color: #00d7ff\">None</span>, <span style=\"color: #00af00; text-decoration-color: #00af00\">10</span>)             │         <span style=\"color: #00af00; text-decoration-color: #00af00\">1,290</span> │\n",
       "└─────────────────────────────────┴────────────────────────┴───────────────┘\n",
       "</pre>\n"
      ],
      "text/plain": [
       "┏━━━━━━━━━━━━━━━━━━━━━━━━━━━━━━━━━┳━━━━━━━━━━━━━━━━━━━━━━━━┳━━━━━━━━━━━━━━━┓\n",
       "┃\u001b[1m \u001b[0m\u001b[1mLayer (type)                   \u001b[0m\u001b[1m \u001b[0m┃\u001b[1m \u001b[0m\u001b[1mOutput Shape          \u001b[0m\u001b[1m \u001b[0m┃\u001b[1m \u001b[0m\u001b[1m      Param #\u001b[0m\u001b[1m \u001b[0m┃\n",
       "┡━━━━━━━━━━━━━━━━━━━━━━━━━━━━━━━━━╇━━━━━━━━━━━━━━━━━━━━━━━━╇━━━━━━━━━━━━━━━┩\n",
       "│ flatten_7 (\u001b[38;5;33mFlatten\u001b[0m)             │ (\u001b[38;5;45mNone\u001b[0m, \u001b[38;5;34m784\u001b[0m)            │             \u001b[38;5;34m0\u001b[0m │\n",
       "├─────────────────────────────────┼────────────────────────┼───────────────┤\n",
       "│ dense_22 (\u001b[38;5;33mDense\u001b[0m)                │ (\u001b[38;5;45mNone\u001b[0m, \u001b[38;5;34m128\u001b[0m)            │       \u001b[38;5;34m100,480\u001b[0m │\n",
       "├─────────────────────────────────┼────────────────────────┼───────────────┤\n",
       "│ dropout_1 (\u001b[38;5;33mDropout\u001b[0m)             │ (\u001b[38;5;45mNone\u001b[0m, \u001b[38;5;34m128\u001b[0m)            │             \u001b[38;5;34m0\u001b[0m │\n",
       "├─────────────────────────────────┼────────────────────────┼───────────────┤\n",
       "│ dense_23 (\u001b[38;5;33mDense\u001b[0m)                │ (\u001b[38;5;45mNone\u001b[0m, \u001b[38;5;34m128\u001b[0m)            │        \u001b[38;5;34m16,512\u001b[0m │\n",
       "├─────────────────────────────────┼────────────────────────┼───────────────┤\n",
       "│ dense_24 (\u001b[38;5;33mDense\u001b[0m)                │ (\u001b[38;5;45mNone\u001b[0m, \u001b[38;5;34m10\u001b[0m)             │         \u001b[38;5;34m1,290\u001b[0m │\n",
       "└─────────────────────────────────┴────────────────────────┴───────────────┘\n"
      ]
     },
     "metadata": {},
     "output_type": "display_data"
    },
    {
     "data": {
      "text/html": [
       "<pre style=\"white-space:pre;overflow-x:auto;line-height:normal;font-family:Menlo,'DejaVu Sans Mono',consolas,'Courier New',monospace\"><span style=\"font-weight: bold\"> Total params: </span><span style=\"color: #00af00; text-decoration-color: #00af00\">118,282</span> (462.04 KB)\n",
       "</pre>\n"
      ],
      "text/plain": [
       "\u001b[1m Total params: \u001b[0m\u001b[38;5;34m118,282\u001b[0m (462.04 KB)\n"
      ]
     },
     "metadata": {},
     "output_type": "display_data"
    },
    {
     "data": {
      "text/html": [
       "<pre style=\"white-space:pre;overflow-x:auto;line-height:normal;font-family:Menlo,'DejaVu Sans Mono',consolas,'Courier New',monospace\"><span style=\"font-weight: bold\"> Trainable params: </span><span style=\"color: #00af00; text-decoration-color: #00af00\">118,282</span> (462.04 KB)\n",
       "</pre>\n"
      ],
      "text/plain": [
       "\u001b[1m Trainable params: \u001b[0m\u001b[38;5;34m118,282\u001b[0m (462.04 KB)\n"
      ]
     },
     "metadata": {},
     "output_type": "display_data"
    },
    {
     "data": {
      "text/html": [
       "<pre style=\"white-space:pre;overflow-x:auto;line-height:normal;font-family:Menlo,'DejaVu Sans Mono',consolas,'Courier New',monospace\"><span style=\"font-weight: bold\"> Non-trainable params: </span><span style=\"color: #00af00; text-decoration-color: #00af00\">0</span> (0.00 B)\n",
       "</pre>\n"
      ],
      "text/plain": [
       "\u001b[1m Non-trainable params: \u001b[0m\u001b[38;5;34m0\u001b[0m (0.00 B)\n"
      ]
     },
     "metadata": {},
     "output_type": "display_data"
    }
   ],
   "source": [
    "model.summary()"
   ]
  },
  {
   "cell_type": "code",
   "execution_count": 282,
   "id": "5f3064ca-d7d8-4db7-ae73-7862218f0734",
   "metadata": {},
   "outputs": [
    {
     "name": "stdout",
     "output_type": "stream",
     "text": [
      "Epoch 1/30\n",
      "\u001b[1m1875/1875\u001b[0m \u001b[32m━━━━━━━━━━━━━━━━━━━━\u001b[0m\u001b[37m\u001b[0m \u001b[1m1s\u001b[0m 607us/step - accuracy: 0.8950 - loss: 0.2823\n",
      "Epoch 2/30\n",
      "\u001b[1m1875/1875\u001b[0m \u001b[32m━━━━━━━━━━━━━━━━━━━━\u001b[0m\u001b[37m\u001b[0m \u001b[1m1s\u001b[0m 608us/step - accuracy: 0.8967 - loss: 0.2748\n",
      "Epoch 3/30\n",
      "\u001b[1m1875/1875\u001b[0m \u001b[32m━━━━━━━━━━━━━━━━━━━━\u001b[0m\u001b[37m\u001b[0m \u001b[1m1s\u001b[0m 611us/step - accuracy: 0.8979 - loss: 0.2708\n",
      "Epoch 4/30\n",
      "\u001b[1m1875/1875\u001b[0m \u001b[32m━━━━━━━━━━━━━━━━━━━━\u001b[0m\u001b[37m\u001b[0m \u001b[1m1s\u001b[0m 598us/step - accuracy: 0.8998 - loss: 0.2689\n",
      "Epoch 5/30\n",
      "\u001b[1m1875/1875\u001b[0m \u001b[32m━━━━━━━━━━━━━━━━━━━━\u001b[0m\u001b[37m\u001b[0m \u001b[1m1s\u001b[0m 598us/step - accuracy: 0.9008 - loss: 0.2644\n",
      "Epoch 6/30\n",
      "\u001b[1m1875/1875\u001b[0m \u001b[32m━━━━━━━━━━━━━━━━━━━━\u001b[0m\u001b[37m\u001b[0m \u001b[1m1s\u001b[0m 596us/step - accuracy: 0.9014 - loss: 0.2598\n",
      "Epoch 7/30\n",
      "\u001b[1m1875/1875\u001b[0m \u001b[32m━━━━━━━━━━━━━━━━━━━━\u001b[0m\u001b[37m\u001b[0m \u001b[1m1s\u001b[0m 601us/step - accuracy: 0.9065 - loss: 0.2493\n",
      "Epoch 8/30\n",
      "\u001b[1m1875/1875\u001b[0m \u001b[32m━━━━━━━━━━━━━━━━━━━━\u001b[0m\u001b[37m\u001b[0m \u001b[1m1s\u001b[0m 596us/step - accuracy: 0.9068 - loss: 0.2473\n",
      "Epoch 9/30\n",
      "\u001b[1m1875/1875\u001b[0m \u001b[32m━━━━━━━━━━━━━━━━━━━━\u001b[0m\u001b[37m\u001b[0m \u001b[1m1s\u001b[0m 609us/step - accuracy: 0.9104 - loss: 0.2404\n",
      "Epoch 10/30\n",
      "\u001b[1m1875/1875\u001b[0m \u001b[32m━━━━━━━━━━━━━━━━━━━━\u001b[0m\u001b[37m\u001b[0m \u001b[1m1s\u001b[0m 687us/step - accuracy: 0.9099 - loss: 0.2363\n",
      "Epoch 11/30\n",
      "\u001b[1m1875/1875\u001b[0m \u001b[32m━━━━━━━━━━━━━━━━━━━━\u001b[0m\u001b[37m\u001b[0m \u001b[1m1s\u001b[0m 611us/step - accuracy: 0.9103 - loss: 0.2364\n",
      "Epoch 12/30\n",
      "\u001b[1m1875/1875\u001b[0m \u001b[32m━━━━━━━━━━━━━━━━━━━━\u001b[0m\u001b[37m\u001b[0m \u001b[1m1s\u001b[0m 608us/step - accuracy: 0.9102 - loss: 0.2388\n",
      "Epoch 13/30\n",
      "\u001b[1m1875/1875\u001b[0m \u001b[32m━━━━━━━━━━━━━━━━━━━━\u001b[0m\u001b[37m\u001b[0m \u001b[1m1s\u001b[0m 597us/step - accuracy: 0.9104 - loss: 0.2340\n",
      "Epoch 14/30\n",
      "\u001b[1m1875/1875\u001b[0m \u001b[32m━━━━━━━━━━━━━━━━━━━━\u001b[0m\u001b[37m\u001b[0m \u001b[1m1s\u001b[0m 606us/step - accuracy: 0.9108 - loss: 0.2308\n",
      "Epoch 15/30\n",
      "\u001b[1m1875/1875\u001b[0m \u001b[32m━━━━━━━━━━━━━━━━━━━━\u001b[0m\u001b[37m\u001b[0m \u001b[1m1s\u001b[0m 595us/step - accuracy: 0.9162 - loss: 0.2250\n",
      "Epoch 16/30\n",
      "\u001b[1m1875/1875\u001b[0m \u001b[32m━━━━━━━━━━━━━━━━━━━━\u001b[0m\u001b[37m\u001b[0m \u001b[1m1s\u001b[0m 621us/step - accuracy: 0.9160 - loss: 0.2251\n",
      "Epoch 17/30\n",
      "\u001b[1m1875/1875\u001b[0m \u001b[32m━━━━━━━━━━━━━━━━━━━━\u001b[0m\u001b[37m\u001b[0m \u001b[1m1s\u001b[0m 635us/step - accuracy: 0.9172 - loss: 0.2211\n",
      "Epoch 18/30\n",
      "\u001b[1m1875/1875\u001b[0m \u001b[32m━━━━━━━━━━━━━━━━━━━━\u001b[0m\u001b[37m\u001b[0m \u001b[1m1s\u001b[0m 659us/step - accuracy: 0.9184 - loss: 0.2160\n",
      "Epoch 19/30\n",
      "\u001b[1m1875/1875\u001b[0m \u001b[32m━━━━━━━━━━━━━━━━━━━━\u001b[0m\u001b[37m\u001b[0m \u001b[1m1s\u001b[0m 693us/step - accuracy: 0.9187 - loss: 0.2132\n",
      "Epoch 20/30\n",
      "\u001b[1m1875/1875\u001b[0m \u001b[32m━━━━━━━━━━━━━━━━━━━━\u001b[0m\u001b[37m\u001b[0m \u001b[1m1s\u001b[0m 657us/step - accuracy: 0.9190 - loss: 0.2149\n",
      "Epoch 21/30\n",
      "\u001b[1m1875/1875\u001b[0m \u001b[32m━━━━━━━━━━━━━━━━━━━━\u001b[0m\u001b[37m\u001b[0m \u001b[1m1s\u001b[0m 626us/step - accuracy: 0.9174 - loss: 0.2149\n",
      "Epoch 22/30\n",
      "\u001b[1m1875/1875\u001b[0m \u001b[32m━━━━━━━━━━━━━━━━━━━━\u001b[0m\u001b[37m\u001b[0m \u001b[1m1s\u001b[0m 611us/step - accuracy: 0.9210 - loss: 0.2093\n",
      "Epoch 23/30\n",
      "\u001b[1m1875/1875\u001b[0m \u001b[32m━━━━━━━━━━━━━━━━━━━━\u001b[0m\u001b[37m\u001b[0m \u001b[1m1s\u001b[0m 621us/step - accuracy: 0.9213 - loss: 0.2067\n",
      "Epoch 24/30\n",
      "\u001b[1m1875/1875\u001b[0m \u001b[32m━━━━━━━━━━━━━━━━━━━━\u001b[0m\u001b[37m\u001b[0m \u001b[1m1s\u001b[0m 622us/step - accuracy: 0.9212 - loss: 0.2073\n",
      "Epoch 25/30\n",
      "\u001b[1m1875/1875\u001b[0m \u001b[32m━━━━━━━━━━━━━━━━━━━━\u001b[0m\u001b[37m\u001b[0m \u001b[1m1s\u001b[0m 626us/step - accuracy: 0.9240 - loss: 0.1995\n",
      "Epoch 26/30\n",
      "\u001b[1m1875/1875\u001b[0m \u001b[32m━━━━━━━━━━━━━━━━━━━━\u001b[0m\u001b[37m\u001b[0m \u001b[1m1s\u001b[0m 608us/step - accuracy: 0.9240 - loss: 0.2023\n",
      "Epoch 27/30\n",
      "\u001b[1m1875/1875\u001b[0m \u001b[32m━━━━━━━━━━━━━━━━━━━━\u001b[0m\u001b[37m\u001b[0m \u001b[1m1s\u001b[0m 612us/step - accuracy: 0.9222 - loss: 0.2025\n",
      "Epoch 28/30\n",
      "\u001b[1m1875/1875\u001b[0m \u001b[32m━━━━━━━━━━━━━━━━━━━━\u001b[0m\u001b[37m\u001b[0m \u001b[1m1s\u001b[0m 620us/step - accuracy: 0.9246 - loss: 0.1982\n",
      "Epoch 29/30\n",
      "\u001b[1m1875/1875\u001b[0m \u001b[32m━━━━━━━━━━━━━━━━━━━━\u001b[0m\u001b[37m\u001b[0m \u001b[1m1s\u001b[0m 615us/step - accuracy: 0.9272 - loss: 0.1958\n",
      "Epoch 30/30\n",
      "\u001b[1m1875/1875\u001b[0m \u001b[32m━━━━━━━━━━━━━━━━━━━━\u001b[0m\u001b[37m\u001b[0m \u001b[1m1s\u001b[0m 613us/step - accuracy: 0.9285 - loss: 0.1919\n"
     ]
    },
    {
     "data": {
      "text/plain": [
       "<keras.src.callbacks.history.History at 0x34c020d40>"
      ]
     },
     "execution_count": 282,
     "metadata": {},
     "output_type": "execute_result"
    }
   ],
   "source": [
    "model.compile(optimizer=\"adam\", loss=SparseCategoricalCrossentropy(from_logits=True), metrics=[\"accuracy\"])\n",
    "model.fit(x=x_train, y=y_train, epochs=30)"
   ]
  },
  {
   "cell_type": "code",
   "execution_count": null,
   "id": "d53dca04-8fc8-447b-9fee-fcb901104336",
   "metadata": {},
   "outputs": [],
   "source": []
  },
  {
   "cell_type": "code",
   "execution_count": null,
   "id": "07e99752-f433-4832-8dd1-755f4ecd5799",
   "metadata": {},
   "outputs": [],
   "source": []
  },
  {
   "cell_type": "code",
   "execution_count": null,
   "id": "f716fb20-4e09-4606-8994-fff2d5be7dec",
   "metadata": {},
   "outputs": [],
   "source": []
  },
  {
   "cell_type": "code",
   "execution_count": 274,
   "id": "95b7f9f2-f47e-4547-85ab-50f1f7b1ceef",
   "metadata": {},
   "outputs": [
    {
     "name": "stdout",
     "output_type": "stream",
     "text": [
      "313/313 - 0s - 451us/step - accuracy: 0.8932 - loss: 0.3410\n",
      "Accuracy of keras model: 89.32%\n"
     ]
    }
   ],
   "source": [
    "r = Runner(model)\n",
    "r.Run(x_test, y_test)"
   ]
  },
  {
   "cell_type": "code",
   "execution_count": 275,
   "id": "674eb35d-a5b2-4ce6-9a09-b876004de7ce",
   "metadata": {},
   "outputs": [
    {
     "name": "stdout",
     "output_type": "stream",
     "text": [
      "Unknown data type provided\n",
      "INFO:tensorflow:Assets written to: /var/folders/tb/l6wv7_157dx6y0fx9kw1q0_h0000gn/T/tmpq_1ogmpb/assets\n"
     ]
    },
    {
     "name": "stderr",
     "output_type": "stream",
     "text": [
      "INFO:tensorflow:Assets written to: /var/folders/tb/l6wv7_157dx6y0fx9kw1q0_h0000gn/T/tmpq_1ogmpb/assets\n"
     ]
    },
    {
     "name": "stdout",
     "output_type": "stream",
     "text": [
      "Saved artifact at '/var/folders/tb/l6wv7_157dx6y0fx9kw1q0_h0000gn/T/tmpq_1ogmpb'. The following endpoints are available:\n",
      "\n",
      "* Endpoint 'serve'\n",
      "  args_0 (POSITIONAL_ONLY): TensorSpec(shape=(None, 28, 28), dtype=tf.float32, name='keras_tensor_26')\n",
      "Output Type:\n",
      "  TensorSpec(shape=(None, 10), dtype=tf.float32, name=None)\n",
      "Captures:\n",
      "  14122799120: TensorSpec(shape=(), dtype=tf.resource, name=None)\n",
      "  14122801232: TensorSpec(shape=(), dtype=tf.resource, name=None)\n",
      "  14122801616: TensorSpec(shape=(), dtype=tf.resource, name=None)\n",
      "  14122802192: TensorSpec(shape=(), dtype=tf.resource, name=None)\n",
      "Accuracy score for tflite model with size 399.25 is 89.32%\n"
     ]
    },
    {
     "name": "stderr",
     "output_type": "stream",
     "text": [
      "W0000 00:00:1741083813.122055 115173051 tf_tfl_flatbuffer_helpers.cc:365] Ignored output_format.\n",
      "W0000 00:00:1741083813.122065 115173051 tf_tfl_flatbuffer_helpers.cc:368] Ignored drop_control_dependency.\n",
      "2025-03-04 12:23:33.122139: I tensorflow/cc/saved_model/reader.cc:83] Reading SavedModel from: /var/folders/tb/l6wv7_157dx6y0fx9kw1q0_h0000gn/T/tmpq_1ogmpb\n",
      "2025-03-04 12:23:33.122283: I tensorflow/cc/saved_model/reader.cc:52] Reading meta graph with tags { serve }\n",
      "2025-03-04 12:23:33.122287: I tensorflow/cc/saved_model/reader.cc:147] Reading SavedModel debug info (if present) from: /var/folders/tb/l6wv7_157dx6y0fx9kw1q0_h0000gn/T/tmpq_1ogmpb\n",
      "2025-03-04 12:23:33.123404: I tensorflow/cc/saved_model/loader.cc:236] Restoring SavedModel bundle.\n",
      "2025-03-04 12:23:33.129659: I tensorflow/cc/saved_model/loader.cc:220] Running initialization op on SavedModel bundle at path: /var/folders/tb/l6wv7_157dx6y0fx9kw1q0_h0000gn/T/tmpq_1ogmpb\n",
      "2025-03-04 12:23:33.132752: I tensorflow/cc/saved_model/loader.cc:466] SavedModel load for tags { serve }; Status: success: OK. Took 10612 microseconds.\n"
     ]
    }
   ],
   "source": [
    "r.RunTfLite(x_test, y_test)"
   ]
  },
  {
   "cell_type": "code",
   "execution_count": 276,
   "id": "4c9fa5db-59b6-432b-b0f3-89080949d60a",
   "metadata": {},
   "outputs": [
    {
     "name": "stdout",
     "output_type": "stream",
     "text": [
      "INFO:tensorflow:Assets written to: /var/folders/tb/l6wv7_157dx6y0fx9kw1q0_h0000gn/T/tmpw0iaz8o0/assets\n"
     ]
    },
    {
     "name": "stderr",
     "output_type": "stream",
     "text": [
      "INFO:tensorflow:Assets written to: /var/folders/tb/l6wv7_157dx6y0fx9kw1q0_h0000gn/T/tmpw0iaz8o0/assets\n"
     ]
    },
    {
     "name": "stdout",
     "output_type": "stream",
     "text": [
      "Saved artifact at '/var/folders/tb/l6wv7_157dx6y0fx9kw1q0_h0000gn/T/tmpw0iaz8o0'. The following endpoints are available:\n",
      "\n",
      "* Endpoint 'serve'\n",
      "  args_0 (POSITIONAL_ONLY): TensorSpec(shape=(None, 28, 28), dtype=tf.float32, name='keras_tensor_26')\n",
      "Output Type:\n",
      "  TensorSpec(shape=(None, 10), dtype=tf.float32, name=None)\n",
      "Captures:\n",
      "  14122799120: TensorSpec(shape=(), dtype=tf.resource, name=None)\n",
      "  14122801232: TensorSpec(shape=(), dtype=tf.resource, name=None)\n",
      "  14122801616: TensorSpec(shape=(), dtype=tf.resource, name=None)\n",
      "  14122802192: TensorSpec(shape=(), dtype=tf.resource, name=None)\n",
      "Accuracy score for tflite model with size 201.01 is 89.33%\n"
     ]
    },
    {
     "name": "stderr",
     "output_type": "stream",
     "text": [
      "W0000 00:00:1741083818.148491 115173051 tf_tfl_flatbuffer_helpers.cc:365] Ignored output_format.\n",
      "W0000 00:00:1741083818.148508 115173051 tf_tfl_flatbuffer_helpers.cc:368] Ignored drop_control_dependency.\n",
      "2025-03-04 12:23:38.148587: I tensorflow/cc/saved_model/reader.cc:83] Reading SavedModel from: /var/folders/tb/l6wv7_157dx6y0fx9kw1q0_h0000gn/T/tmpw0iaz8o0\n",
      "2025-03-04 12:23:38.148762: I tensorflow/cc/saved_model/reader.cc:52] Reading meta graph with tags { serve }\n",
      "2025-03-04 12:23:38.148766: I tensorflow/cc/saved_model/reader.cc:147] Reading SavedModel debug info (if present) from: /var/folders/tb/l6wv7_157dx6y0fx9kw1q0_h0000gn/T/tmpw0iaz8o0\n",
      "2025-03-04 12:23:38.149985: I tensorflow/cc/saved_model/loader.cc:236] Restoring SavedModel bundle.\n",
      "2025-03-04 12:23:38.156504: I tensorflow/cc/saved_model/loader.cc:220] Running initialization op on SavedModel bundle at path: /var/folders/tb/l6wv7_157dx6y0fx9kw1q0_h0000gn/T/tmpw0iaz8o0\n",
      "2025-03-04 12:23:38.159702: I tensorflow/cc/saved_model/loader.cc:466] SavedModel load for tags { serve }; Status: success: OK. Took 11113 microseconds.\n"
     ]
    }
   ],
   "source": [
    "r.RunTfLite(x_test, y_test, dt=\"FP16\")"
   ]
  },
  {
   "cell_type": "code",
   "execution_count": 277,
   "id": "5fe2e0f8-a255-4882-a3d2-df1e7ebbc955",
   "metadata": {
    "scrolled": true
   },
   "outputs": [
    {
     "name": "stderr",
     "output_type": "stream",
     "text": [
      "WARNING:absl:Optimization option OPTIMIZE_FOR_SIZE is deprecated, please use optimizations=[Optimize.DEFAULT] instead.\n"
     ]
    },
    {
     "name": "stdout",
     "output_type": "stream",
     "text": [
      "INFO:tensorflow:Assets written to: /var/folders/tb/l6wv7_157dx6y0fx9kw1q0_h0000gn/T/tmp05slbdvz/assets\n"
     ]
    },
    {
     "name": "stderr",
     "output_type": "stream",
     "text": [
      "INFO:tensorflow:Assets written to: /var/folders/tb/l6wv7_157dx6y0fx9kw1q0_h0000gn/T/tmp05slbdvz/assets\n"
     ]
    },
    {
     "name": "stdout",
     "output_type": "stream",
     "text": [
      "Saved artifact at '/var/folders/tb/l6wv7_157dx6y0fx9kw1q0_h0000gn/T/tmp05slbdvz'. The following endpoints are available:\n",
      "\n",
      "* Endpoint 'serve'\n",
      "  args_0 (POSITIONAL_ONLY): TensorSpec(shape=(None, 28, 28), dtype=tf.float32, name='keras_tensor_26')\n",
      "Output Type:\n",
      "  TensorSpec(shape=(None, 10), dtype=tf.float32, name=None)\n",
      "Captures:\n",
      "  14122799120: TensorSpec(shape=(), dtype=tf.resource, name=None)\n",
      "  14122801232: TensorSpec(shape=(), dtype=tf.resource, name=None)\n",
      "  14122801616: TensorSpec(shape=(), dtype=tf.resource, name=None)\n",
      "  14122802192: TensorSpec(shape=(), dtype=tf.resource, name=None)\n"
     ]
    },
    {
     "name": "stderr",
     "output_type": "stream",
     "text": [
      "WARNING:absl:Optimization option OPTIMIZE_FOR_SIZE is deprecated, please use optimizations=[Optimize.DEFAULT] instead.\n",
      "WARNING:absl:Optimization option OPTIMIZE_FOR_SIZE is deprecated, please use optimizations=[Optimize.DEFAULT] instead.\n"
     ]
    },
    {
     "name": "stdout",
     "output_type": "stream",
     "text": [
      "Accuracy score for tflite model with size 103.22 is 89.29%\n"
     ]
    },
    {
     "name": "stderr",
     "output_type": "stream",
     "text": [
      "W0000 00:00:1741083821.447910 115173051 tf_tfl_flatbuffer_helpers.cc:365] Ignored output_format.\n",
      "W0000 00:00:1741083821.447919 115173051 tf_tfl_flatbuffer_helpers.cc:368] Ignored drop_control_dependency.\n",
      "2025-03-04 12:23:41.448030: I tensorflow/cc/saved_model/reader.cc:83] Reading SavedModel from: /var/folders/tb/l6wv7_157dx6y0fx9kw1q0_h0000gn/T/tmp05slbdvz\n",
      "2025-03-04 12:23:41.448225: I tensorflow/cc/saved_model/reader.cc:52] Reading meta graph with tags { serve }\n",
      "2025-03-04 12:23:41.448231: I tensorflow/cc/saved_model/reader.cc:147] Reading SavedModel debug info (if present) from: /var/folders/tb/l6wv7_157dx6y0fx9kw1q0_h0000gn/T/tmp05slbdvz\n",
      "2025-03-04 12:23:41.449441: I tensorflow/cc/saved_model/loader.cc:236] Restoring SavedModel bundle.\n",
      "2025-03-04 12:23:41.455658: I tensorflow/cc/saved_model/loader.cc:220] Running initialization op on SavedModel bundle at path: /var/folders/tb/l6wv7_157dx6y0fx9kw1q0_h0000gn/T/tmp05slbdvz\n",
      "2025-03-04 12:23:41.458337: I tensorflow/cc/saved_model/loader.cc:466] SavedModel load for tags { serve }; Status: success: OK. Took 10307 microseconds.\n"
     ]
    }
   ],
   "source": [
    "r.RunTfLite(x_test, y_test, dt=\"INT8\")"
   ]
  },
  {
   "cell_type": "code",
   "execution_count": null,
   "id": "f09ab72c-7df7-457d-bc6f-cc841182d94d",
   "metadata": {},
   "outputs": [],
   "source": []
  }
 ],
 "metadata": {
  "kernelspec": {
   "display_name": "Python 3 (ipykernel)",
   "language": "python",
   "name": "python3"
  },
  "language_info": {
   "codemirror_mode": {
    "name": "ipython",
    "version": 3
   },
   "file_extension": ".py",
   "mimetype": "text/x-python",
   "name": "python",
   "nbconvert_exporter": "python",
   "pygments_lexer": "ipython3",
   "version": "3.12.8"
  }
 },
 "nbformat": 4,
 "nbformat_minor": 5
}
